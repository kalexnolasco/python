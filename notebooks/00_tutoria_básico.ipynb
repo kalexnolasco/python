{
  "nbformat": 4,
  "nbformat_minor": 0,
  "metadata": {
    "kernelspec": {
      "display_name": "Python 3",
      "language": "python",
      "name": "python3"
    },
    "language_info": {
      "codemirror_mode": {
        "name": "ipython",
        "version": 3
      },
      "file_extension": ".py",
      "mimetype": "text/x-python",
      "name": "python",
      "nbconvert_exporter": "python",
      "pygments_lexer": "ipython3",
      "version": "3.7.3"
    },
    "colab": {
      "name": "00_tutoria_básico.ipynb",
      "provenance": [],
      "include_colab_link": true
    }
  },
  "cells": [
    {
      "cell_type": "markdown",
      "metadata": {
        "id": "view-in-github",
        "colab_type": "text"
      },
      "source": [
        "<a href=\"https://colab.research.google.com/github/kalexnolasco/python/blob/main/notebooks/00_tutoria_b%C3%A1sico.ipynb\" target=\"_parent\"><img src=\"https://colab.research.google.com/assets/colab-badge.svg\" alt=\"Open In Colab\"/></a>"
      ]
    },
    {
      "cell_type": "markdown",
      "metadata": {
        "id": "RKMFiNAHqE_l"
      },
      "source": [
        ""
      ]
    },
    {
      "cell_type": "markdown",
      "metadata": {
        "id": "24xYxdDdqGq-"
      },
      "source": [
        "\n",
        "# <center> **Tutorial básico de Python**</center>"
      ]
    },
    {
      "cell_type": "code",
      "metadata": {
        "id": "ikHe-V3grQzc"
      },
      "source": [
        "# Preferiblemente importamos todos los módulos que utlizaremos al principio\n",
        "import os\n",
        "import sys\n",
        "import keyword\n",
        "import operator\n",
        "\n",
        "from datetime import datetime"
      ],
      "execution_count": 1,
      "outputs": []
    },
    {
      "cell_type": "markdown",
      "metadata": {
        "id": "XPjnBWW-qEZ2"
      },
      "source": [
        "## **keywords (palabras reservadas de python)**\n",
        "\n",
        "* Las palabras reservadas en python no se pueden utilizar para identificar a variables. "
      ]
    },
    {
      "cell_type": "code",
      "metadata": {
        "id": "SRXk2G4_rqKZ",
        "colab": {
          "base_uri": "https://localhost:8080/"
        },
        "outputId": "7e910faf-98e6-4fa4-c475-10e2715c7c3c"
      },
      "source": [
        "print(\"Listamos todas las keyword:\", keyword.kwlist, sep=\"\\n\")\n",
        "print(\"Python contiene un total de\", len(keyword.kwlist), \"keywords\")"
      ],
      "execution_count": null,
      "outputs": [
        {
          "output_type": "stream",
          "text": [
            "Listamos todas las keyword:\n",
            "['False', 'None', 'True', 'and', 'as', 'assert', 'async', 'await', 'break', 'class', 'continue', 'def', 'del', 'elif', 'else', 'except', 'finally', 'for', 'from', 'global', 'if', 'import', 'in', 'is', 'lambda', 'nonlocal', 'not', 'or', 'pass', 'raise', 'return', 'try', 'while', 'with', 'yield']\n",
            "Python contiene un total de 35 keywords\n"
          ],
          "name": "stdout"
        }
      ]
    },
    {
      "cell_type": "markdown",
      "metadata": {
        "id": "IxF5q7UJst6v"
      },
      "source": [
        "## **Identificadores**\n",
        "\n",
        "* Son los nombres que toman las diversas entidades, por ejemplo clases, funciones, variables, entre otros."
      ]
    },
    {
      "cell_type": "code",
      "metadata": {
        "id": "tHgjovsGstqA",
        "colab": {
          "base_uri": "https://localhost:8080/",
          "height": 129
        },
        "outputId": "c4dcf46d-ea06-4160-da5d-2318c1c94cb4"
      },
      "source": [
        "# Los identificadores no pueden empezar con dígito(s)\n",
        "1variable = 10"
      ],
      "execution_count": null,
      "outputs": [
        {
          "output_type": "error",
          "ename": "SyntaxError",
          "evalue": "ignored",
          "traceback": [
            "\u001b[0;36m  File \u001b[0;32m\"<ipython-input-13-3e875d2a7c8f>\"\u001b[0;36m, line \u001b[0;32m2\u001b[0m\n\u001b[0;31m    1variable = 10\u001b[0m\n\u001b[0m            ^\u001b[0m\n\u001b[0;31mSyntaxError\u001b[0m\u001b[0;31m:\u001b[0m invalid syntax\n"
          ]
        }
      ]
    },
    {
      "cell_type": "code",
      "metadata": {
        "id": "S51SwK0Vstmf",
        "colab": {
          "base_uri": "https://localhost:8080/",
          "height": 129
        },
        "outputId": "b486bf8f-2b7b-4b62-8c89-b2ec060696e7"
      },
      "source": [
        "# Los identificadores no pueden utilizar símbolos especials (@, #, %,...)\n",
        "val@ = 30"
      ],
      "execution_count": null,
      "outputs": [
        {
          "output_type": "error",
          "ename": "SyntaxError",
          "evalue": "ignored",
          "traceback": [
            "\u001b[0;36m  File \u001b[0;32m\"<ipython-input-14-ab2c44c54b72>\"\u001b[0;36m, line \u001b[0;32m2\u001b[0m\n\u001b[0;31m    val@ = 30\u001b[0m\n\u001b[0m         ^\u001b[0m\n\u001b[0;31mSyntaxError\u001b[0m\u001b[0;31m:\u001b[0m invalid syntax\n"
          ]
        }
      ]
    },
    {
      "cell_type": "code",
      "metadata": {
        "id": "4NXmgfKDsRpw",
        "colab": {
          "base_uri": "https://localhost:8080/",
          "height": 129
        },
        "outputId": "0f609438-a88b-45cb-bd35-a2d0b836465c"
      },
      "source": [
        "# Los identificadores no pueden ser keywords de python\n",
        "class = 50"
      ],
      "execution_count": null,
      "outputs": [
        {
          "output_type": "error",
          "ename": "SyntaxError",
          "evalue": "ignored",
          "traceback": [
            "\u001b[0;36m  File \u001b[0;32m\"<ipython-input-15-5c337578a87e>\"\u001b[0;36m, line \u001b[0;32m2\u001b[0m\n\u001b[0;31m    class = 50\u001b[0m\n\u001b[0m          ^\u001b[0m\n\u001b[0;31mSyntaxError\u001b[0m\u001b[0;31m:\u001b[0m invalid syntax\n"
          ]
        }
      ]
    },
    {
      "cell_type": "markdown",
      "metadata": {
        "id": "DQjph2bdt4OY"
      },
      "source": [
        "La forma correcta de nombrar a un identificador será con letras minúsculas (a->z) o máyusculas (A->Z) o guión bajo (_).Puede exisitir números, pero este no debe ser el primer carácter\n",
        "\n",
        "Para más imformación leer el [PEP8 de Python](http://recursospython.com/pep8es.pdf)"
      ]
    },
    {
      "cell_type": "code",
      "metadata": {
        "id": "lNGjWgg8uZey"
      },
      "source": [
        "val = 50\n",
        "val_ = 50\n",
        "val2 = 30"
      ],
      "execution_count": null,
      "outputs": []
    },
    {
      "cell_type": "markdown",
      "metadata": {
        "id": "KWAXl_E6uvWS"
      },
      "source": [
        "## **Comentarios**\n",
        "\n",
        "* El uso de comentarios es muy importante en el desarrollo de cualquier script/programa ya sea para python o cualquier otro lenguaje. Nuestro yo del futuro nos agradecerá."
      ]
    },
    {
      "cell_type": "code",
      "metadata": {
        "id": "Yiv4XIsguyBz"
      },
      "source": [
        "# Esto es un comentario de una sola línea. Definimos value=50\n",
        "value = 50"
      ],
      "execution_count": null,
      "outputs": []
    },
    {
      "cell_type": "code",
      "metadata": {
        "id": "s2MOimWCvUbD"
      },
      "source": [
        "# Este es un comentario\n",
        "# en varias\n",
        "# líneas. definimos value=100\n",
        "value = 100"
      ],
      "execution_count": null,
      "outputs": []
    },
    {
      "cell_type": "markdown",
      "metadata": {
        "id": "zlV0Ct4pvk_p"
      },
      "source": [
        "## **Declaraciones**\n"
      ]
    },
    {
      "cell_type": "code",
      "metadata": {
        "id": "ivBu6ocmvfBN",
        "colab": {
          "base_uri": "https://localhost:8080/"
        },
        "outputId": "f9ec9a3a-c816-4a11-de2d-d6648ae9885e"
      },
      "source": [
        "# Declaración en una sola línea\n",
        "value = 5 + 15\n",
        "print(\"El valor de value es:\", value)\n",
        "vowels = [\"a\", \"e\", \"i\", \"o\", \"u\"]\n",
        "print(\"Las vocales son:\",vowels)"
      ],
      "execution_count": null,
      "outputs": [
        {
          "output_type": "stream",
          "text": [
            "El valor de value es: 20\n",
            "Las vocales son: ['a', 'e', 'i', 'o', 'u']\n"
          ],
          "name": "stdout"
        }
      ]
    },
    {
      "cell_type": "code",
      "metadata": {
        "id": "y_g8vprLvwZq",
        "colab": {
          "base_uri": "https://localhost:8080/"
        },
        "outputId": "a602fb03-0786-4f64-a10a-1112d4df044a"
      },
      "source": [
        "# Declaración en varias líneas\n",
        "value = 5 + \\\n",
        "        15\n",
        "print(\"El valor de value es:\", value)\n",
        "vowels = [\"a\",\n",
        "          \"e\",\n",
        "          \"i\",\n",
        "          \"o\",\n",
        "          \"u\"]\n",
        "print(\"Las vocales son:\",vowels)"
      ],
      "execution_count": null,
      "outputs": [
        {
          "output_type": "stream",
          "text": [
            "El valor de value es: 20\n",
            "Las vocales son: ['a', 'e', 'i', 'o', 'u']\n"
          ],
          "name": "stdout"
        }
      ]
    },
    {
      "cell_type": "markdown",
      "metadata": {
        "id": "Fr3VjC3_wyhC"
      },
      "source": [
        "## Identación\n",
        "\n",
        "* La identación/sangría es muy importante en Python, ya que este definirá los bloques de código. Si una identación no es correcta tendremos la Excepción **IdentationError**\n"
      ]
    },
    {
      "cell_type": "code",
      "metadata": {
        "id": "76XQdOtmvwX1",
        "colab": {
          "base_uri": "https://localhost:8080/"
        },
        "outputId": "070fcd0d-82c2-4d04-eb41-04a5a0a8e69b"
      },
      "source": [
        "# correcta identación\n",
        "value = 50\n",
        "if value == 50:\n",
        "  print(\"El valor de values es 50\")  # Aquí se tiene identación\n",
        "  "
      ],
      "execution_count": null,
      "outputs": [
        {
          "output_type": "stream",
          "text": [
            "El valor de values es 50\n"
          ],
          "name": "stdout"
        }
      ]
    },
    {
      "cell_type": "code",
      "metadata": {
        "id": "xsj1jTqlvwVi",
        "colab": {
          "base_uri": "https://localhost:8080/",
          "height": 129
        },
        "outputId": "1e94e3af-31d8-4bf5-dcdc-8b767a7620f9"
      },
      "source": [
        "# identación errónea\n",
        "value = 50\n",
        "if value == 50:\n",
        "print(\"El valor de values es 50\")  # Aquí no hay identación"
      ],
      "execution_count": null,
      "outputs": [
        {
          "output_type": "error",
          "ename": "IndentationError",
          "evalue": "ignored",
          "traceback": [
            "\u001b[0;36m  File \u001b[0;32m\"<ipython-input-36-d4b6079dd121>\"\u001b[0;36m, line \u001b[0;32m4\u001b[0m\n\u001b[0;31m    print(\"El valor de values es 50\")  # Aquí no hay identación\u001b[0m\n\u001b[0m        ^\u001b[0m\n\u001b[0;31mIndentationError\u001b[0m\u001b[0;31m:\u001b[0m expected an indented block\n"
          ]
        }
      ]
    },
    {
      "cell_type": "code",
      "metadata": {
        "id": "7npl5b1RvwTZ",
        "colab": {
          "base_uri": "https://localhost:8080/"
        },
        "outputId": "04121292-70ef-4664-f8e7-040fc71049f9"
      },
      "source": [
        "repeat = 4\n",
        "for i in range(repeat):\n",
        "  print(\"Estoy en la identación\")\n",
        "print(\"He salido de la identación\")"
      ],
      "execution_count": null,
      "outputs": [
        {
          "output_type": "stream",
          "text": [
            "Estoy en la identación\n",
            "Estoy en la identación\n",
            "Estoy en la identación\n",
            "Estoy en la identación\n",
            "He salido de la identación\n"
          ],
          "name": "stdout"
        }
      ]
    },
    {
      "cell_type": "markdown",
      "metadata": {
        "id": "E8NjeZrlyJOX"
      },
      "source": [
        "## Docstrings\n",
        "\n",
        "* Los doctstrings nos brindan una manera de asociar la documentación con las funciones, metódos, clases y módulos.\n",
        "* Se deberá realizar el **docstring** después de definir la función, método, clase o módulo.\n"
      ]
    },
    {
      "cell_type": "code",
      "metadata": {
        "id": "OGCnkhCDvwRK",
        "colab": {
          "base_uri": "https://localhost:8080/"
        },
        "outputId": "e8324ca4-4303-40d0-b15f-01620d7a07af"
      },
      "source": [
        "def say_hello():\n",
        "  \"\"\"Esta función se encarga de decir hola\"\"\"\n",
        "  print(\"Hola\")\n",
        "  \n",
        "say_hello()"
      ],
      "execution_count": null,
      "outputs": [
        {
          "output_type": "stream",
          "text": [
            "Hola\n"
          ],
          "name": "stdout"
        }
      ]
    },
    {
      "cell_type": "code",
      "metadata": {
        "id": "2l3hdq5wvwOy",
        "colab": {
          "base_uri": "https://localhost:8080/"
        },
        "outputId": "70580079-b8bc-4406-caa6-8c6584321d12"
      },
      "source": [
        "# Podremos acceder al Docstring usando el método __doc__\n",
        "say_hello.__doc__"
      ],
      "execution_count": null,
      "outputs": [
        {
          "output_type": "execute_result",
          "data": {
            "text/plain": [
              "'Esta función se encarga de decir hola'"
            ]
          },
          "metadata": {
            "tags": []
          },
          "execution_count": 39
        }
      ]
    },
    {
      "cell_type": "markdown",
      "metadata": {
        "id": "vo74VqnMzSzv"
      },
      "source": [
        "## **Variables**\n",
        "* Las variables son almacenadas en alguna ubicación de la memoria.\n",
        "* Se crean al momento que se les asigna algún valor por primera vez.\n",
        "* la función **id()** nos devuelve la **'identidad'** del objeto/variable. `En python todo son objetos`.\n",
        "  * La **'identidad'** de un objetos:\n",
        "      1. Es un número entero\n",
        "      2. Se garantiza que es el único.\n",
        "      3. Constante durante toda la vida del objeto.\n",
        "\n"
      ]
    },
    {
      "cell_type": "code",
      "metadata": {
        "id": "tWImrhHlztIU",
        "colab": {
          "base_uri": "https://localhost:8080/"
        },
        "outputId": "42d022dc-8ad1-425b-cd59-c4e8b6a5813f"
      },
      "source": [
        "new_value = 1200\n",
        "id(new_value)"
      ],
      "execution_count": null,
      "outputs": [
        {
          "output_type": "execute_result",
          "data": {
            "text/plain": [
              "140212360182928"
            ]
          },
          "metadata": {
            "tags": []
          },
          "execution_count": 40
        }
      ]
    },
    {
      "cell_type": "code",
      "metadata": {
        "id": "khRDXHa10uDX",
        "colab": {
          "base_uri": "https://localhost:8080/"
        },
        "outputId": "1da5b7a2-6c86-4956-d74b-a150a1efe63a"
      },
      "source": [
        "# Para obtener la dirección en memoria utilizamos  a la hex()\n",
        "hex(id(new_value))"
      ],
      "execution_count": null,
      "outputs": [
        {
          "output_type": "execute_result",
          "data": {
            "text/plain": [
              "'0x7f85bbebfc90'"
            ]
          },
          "metadata": {
            "tags": []
          },
          "execution_count": 41
        }
      ]
    },
    {
      "cell_type": "code",
      "metadata": {
        "id": "9kTcd-su1g8t",
        "colab": {
          "base_uri": "https://localhost:8080/"
        },
        "outputId": "0b6c7b5e-ecb1-41f8-87f2-a09b274fab24"
      },
      "source": [
        "a = 50 # Se crea un objeto integer con valor de 50 y se le asigna la variable a para que apunte a esta.\n",
        "b = 50 # Se crea una nueva referencia b que apunta al valor 50. a y b apuntan a la misma ubicación de memoria\n",
        "c = b # La variable c también apuntará a la misma ubicación que a y b.\n",
        "\n",
        "print(\"a: valor\", a, \", tipo:\", type(a), \", ubicación en memoria:\", hex(id(a)))\n",
        "print(\"b: valor\", b, \", tipo:\", type(b), \", ubicación en memoria:\", hex(id(b)))\n",
        "print(\"c: valor\", c, \", tipo:\", type(c), \", ubicación en memoria:\", hex(id(c)))"
      ],
      "execution_count": null,
      "outputs": [
        {
          "output_type": "stream",
          "text": [
            "a: valor 50 , tipo: <class 'int'> , ubicación en memoria: 0x8a4f00\n",
            "b: valor 50 , tipo: <class 'int'> , ubicación en memoria: 0x8a4f00\n",
            "c: valor 50 , tipo: <class 'int'> , ubicación en memoria: 0x8a4f00\n"
          ],
          "name": "stdout"
        }
      ]
    },
    {
      "cell_type": "markdown",
      "metadata": {
        "id": "srWkibjQ3K9v"
      },
      "source": [
        "### **Asignación de variables**"
      ]
    },
    {
      "cell_type": "code",
      "metadata": {
        "id": "XrDbiBr83O3y"
      },
      "source": [
        "var_int = 10 # varialbe de tipo entero(Integer)\n",
        "var_float = 2.565 # variable de tipo flotande(Float)\n",
        "var_string = \"Python\" # variable del tipo cadena (String)\n",
        "var_bool = True # variable de tipo booleana\n",
        "var_list = [1, 2, 3, 4] # variable de tipo lista\n",
        "var_tuple = (1, 2, 3, 4) # variable del tipo tupla\n",
        "var_dict = {\"a\": 50 , \"b\":100} # variable del tipo diccionario\n",
        "var_set = {1, 2, 3} # variable del tipo conjunto\n"
      ],
      "execution_count": null,
      "outputs": []
    },
    {
      "cell_type": "code",
      "metadata": {
        "id": "ga7l-BJ23O9C"
      },
      "source": [
        "# Asignación multiple\n",
        "var_int, var_float, var_string = 10, 2.565, \"Python\""
      ],
      "execution_count": null,
      "outputs": []
    },
    {
      "cell_type": "code",
      "metadata": {
        "id": "Bz0YzzoO3O6U"
      },
      "source": [
        "# Definir el mismo valor para diversas variables\n",
        "val_1 = val_2 = val_3 = val_4 = 125 # Todas las variables apuntal al mismo valor"
      ],
      "execution_count": null,
      "outputs": []
    },
    {
      "cell_type": "markdown",
      "metadata": {
        "id": "cJjS1P7z4jht"
      },
      "source": [
        "## **Tipos de datos**"
      ]
    },
    {
      "cell_type": "markdown",
      "metadata": {
        "id": "dMenlKgtLydV"
      },
      "source": [
        "### Númericos"
      ]
    },
    {
      "cell_type": "code",
      "metadata": {
        "id": "pAGSOBrY4iDd",
        "outputId": "57f8b268-f710-4be3-c645-472dc5cd66bf",
        "colab": {
          "base_uri": "https://localhost:8080/"
        }
      },
      "source": [
        "# Tipo de dato: Integer (entero)\n",
        "value = 50\n",
        "print(\"El valor de value es:\", value)\n",
        "print(\"El tipo de dato que es values es:\", type(value))\n",
        "print(\"El tamaño de objeto value en bytes es:\", sys.getsizeof(value))\n",
        "print(\"¿Es value entero(int)?-->\", isinstance(value, int))\n"
      ],
      "execution_count": 17,
      "outputs": [
        {
          "output_type": "stream",
          "text": [
            "El valor de value es: 50\n",
            "El tipo de dato que es values es: <class 'int'>\n",
            "El tamaño de objeto value en bytes es: 28\n",
            "¿Es value entero(int)?--> True\n"
          ],
          "name": "stdout"
        }
      ]
    },
    {
      "cell_type": "code",
      "metadata": {
        "id": "6URevdSINI14",
        "outputId": "ce639195-fdf5-4f68-b80e-c31c53da0251",
        "colab": {
          "base_uri": "https://localhost:8080/"
        }
      },
      "source": [
        "# Tipo de dato: FLoat (flotante)\n",
        "value = 50.45\n",
        "print(\"El valor de value es:\", value)\n",
        "print(\"El tipo de dato que es values es:\", type(value))\n",
        "print(\"El tamaño de objeto value en bytes es:\", sys.getsizeof(value))\n",
        "print(\"¿Es value flotante(float)?-->\", isinstance(value, float))"
      ],
      "execution_count": 18,
      "outputs": [
        {
          "output_type": "stream",
          "text": [
            "El valor de value es: 50.45\n",
            "El tipo de dato que es values es: <class 'float'>\n",
            "El tamaño de objeto value en bytes es: 24\n",
            "¿Es value flotante(float)?--> True\n"
          ],
          "name": "stdout"
        }
      ]
    },
    {
      "cell_type": "code",
      "metadata": {
        "id": "CEkI2gmkNIzo",
        "outputId": "89e595b2-b05b-4cc7-b151-23ba4b44bdfd",
        "colab": {
          "base_uri": "https://localhost:8080/"
        }
      },
      "source": [
        "# Tipo de dato: Complex (complejo)\n",
        "value = 50 + 40j\n",
        "print(\"El valor de value es:\", value)\n",
        "print(\"El tipo de dato que es values es:\", type(value))\n",
        "print(\"El tamaño de objeto value en bytes es:\", sys.getsizeof(value))\n",
        "print(\"¿Es value un número complejo(complex)?-->\", isinstance(value, complex))"
      ],
      "execution_count": 19,
      "outputs": [
        {
          "output_type": "stream",
          "text": [
            "El valor de value es: (50+40j)\n",
            "El tipo de dato que es values es: <class 'complex'>\n",
            "El tamaño de objeto value en bytes es: 32\n",
            "¿Es value un número complejo(complex)?--> True\n"
          ],
          "name": "stdout"
        }
      ]
    },
    {
      "cell_type": "markdown",
      "metadata": {
        "id": "1sxKgTkpNmEN"
      },
      "source": [
        "\n",
        "### Booleanos\n",
        "* Los valores booleanos tienen dos posibilidades  True o False"
      ]
    },
    {
      "cell_type": "code",
      "metadata": {
        "id": "PG_pq_gdNlbP",
        "outputId": "a8356cb5-5950-4ad9-e7da-397e04c3ab59",
        "colab": {
          "base_uri": "https://localhost:8080/"
        }
      },
      "source": [
        "# Tipo de dato: boolean \n",
        "value = True\n",
        "print(\"El valor de value es:\", value)\n",
        "print(\"El tipo de dato que es values es:\", type(value))\n",
        "print(\"El tamaño de objeto value en bytes es:\", sys.getsizeof(value))\n",
        "print(\"¿Es value boolean?-->\", isinstance(value,bool))\n"
      ],
      "execution_count": 20,
      "outputs": [
        {
          "output_type": "stream",
          "text": [
            "El valor de value es: True\n",
            "El tipo de dato que es values es: <class 'bool'>\n",
            "El tamaño de objeto value en bytes es: 28\n",
            "¿Es value boolean?--> True\n"
          ],
          "name": "stdout"
        }
      ]
    },
    {
      "cell_type": "code",
      "metadata": {
        "id": "HfkR18OgNIxC",
        "outputId": "7e6093d4-a794-495a-80c0-4b4231b8adab",
        "colab": {
          "base_uri": "https://localhost:8080/"
        }
      },
      "source": [
        "# Tipo de dato: boolean \n",
        "value = False\n",
        "print(\"El valor de value es:\", value)\n",
        "print(\"El tipo de dato que es values es:\", type(value))\n",
        "print(\"El tamaño de objeto value en bytes es:\", sys.getsizeof(value))\n",
        "print(\"¿Es value boolean?-->\", isinstance(value,bool))"
      ],
      "execution_count": 21,
      "outputs": [
        {
          "output_type": "stream",
          "text": [
            "El valor de value es: False\n",
            "El tipo de dato que es values es: <class 'bool'>\n",
            "El tamaño de objeto value en bytes es: 24\n",
            "¿Es value boolean?--> True\n"
          ],
          "name": "stdout"
        }
      ]
    },
    {
      "cell_type": "code",
      "metadata": {
        "id": "6z0zvV6zNIqo",
        "outputId": "447b4bef-765f-496f-c6c2-f6a943d0e6bf",
        "colab": {
          "base_uri": "https://localhost:8080/"
        }
      },
      "source": [
        "# Valores a tener en cuenta\n",
        "print(\"bool(0)->\", bool(0))\n",
        "print(\"bool(1)->\", bool(1))\n",
        "print(\"bool(None)->\", bool(None))\n",
        "print(\"bool([])->\", bool([]))\n",
        "print(\"bool({})->\", bool({}))"
      ],
      "execution_count": 22,
      "outputs": [
        {
          "output_type": "stream",
          "text": [
            "bool(0)-> False\n",
            "bool(1)-> True\n",
            "bool(None)-> False\n",
            "bool([])-> False\n",
            "bool({})-> False\n"
          ],
          "name": "stdout"
        }
      ]
    },
    {
      "cell_type": "markdown",
      "metadata": {
        "id": "U5ogAxhGOjDO"
      },
      "source": [
        "### String (cadena)"
      ]
    },
    {
      "cell_type": "code",
      "metadata": {
        "id": "YeIrITLANIhr",
        "outputId": "033c6a3a-0587-4c2a-a81a-9663d45c9668",
        "colab": {
          "base_uri": "https://localhost:8080/"
        }
      },
      "source": [
        "# Tipo de dato: String \n",
        "value = \"Hola mundo\"\n",
        "print(\"El valor de value es:\", value)\n",
        "print(\"El tipo de dato que es values es:\", type(value))\n",
        "print(\"El tamaño de objeto value en bytes es:\", sys.getsizeof(value))\n",
        "print(\"¿Es value string?-->\", isinstance(value, str))"
      ],
      "execution_count": 23,
      "outputs": [
        {
          "output_type": "stream",
          "text": [
            "El valor de value es: Hola mundo\n",
            "El tipo de dato que es values es: <class 'str'>\n",
            "El tamaño de objeto value en bytes es: 59\n",
            "¿Es value string?--> True\n"
          ],
          "name": "stdout"
        }
      ]
    },
    {
      "cell_type": "code",
      "metadata": {
        "id": "9k01nH_rO0VN",
        "outputId": "36e96eb6-2605-4614-ebb6-43328ad1d66a",
        "colab": {
          "base_uri": "https://localhost:8080/"
        }
      },
      "source": [
        "str_1 = 'String con comillas simples'\n",
        "str_2 = \"String con comillas dobles\"\n",
        "str_3 = '''String con \n",
        "          comillas simples en varias líneas'''\n",
        "str_4 = \"\"\"String con comillas \n",
        "        dobles en varias \n",
        "        líneas\"\"\"\n",
        "print(str_1)\n",
        "print(str_2)\n",
        "print(str_3)\n",
        "print(str_4)"
      ],
      "execution_count": 24,
      "outputs": [
        {
          "output_type": "stream",
          "text": [
            "String con comillas simples\n",
            "String con comillas dobles\n",
            "String con \n",
            "          comillas simples en varias líneas\n",
            "String con comillas \n",
            "        dobles en varias \n",
            "        líneas\n"
          ],
          "name": "stdout"
        }
      ]
    },
    {
      "cell_type": "code",
      "metadata": {
        "id": "rvhEv4gkPTTd",
        "outputId": "ff8ef3a9-976f-4729-ec16-a3926a58ca40",
        "colab": {
          "base_uri": "https://localhost:8080/"
        }
      },
      "source": [
        "# Multiplicación de string con un número entero\n",
        "value =  \"hola! \" * 5\n",
        "print(value)"
      ],
      "execution_count": 26,
      "outputs": [
        {
          "output_type": "stream",
          "text": [
            "hola! hola! hola! hola! hola! \n"
          ],
          "name": "stdout"
        }
      ]
    },
    {
      "cell_type": "markdown",
      "metadata": {
        "id": "FMK6OuofQ-Sy"
      },
      "source": [
        "## ![slice](\"images/00_string_slice.png\")"
      ]
    },
    {
      "cell_type": "code",
      "metadata": {
        "id": "AkAB3S9zPryc",
        "outputId": "4033417f-2298-44d8-ae61-b1c4aca59ab4",
        "colab": {
          "base_uri": "https://localhost:8080/"
        }
      },
      "source": [
        "# Indexación o Slicing\n",
        "value = \"GEEKSFORGEEKS\"\n",
        "print(\"Primer valor:\", value[0])\n",
        "print(\"Último valor:\", value[-1])\n",
        "print(\"Desde el valor 3ero hast el final:\", value[3:])\n",
        "print(\"Desde inicio hast el 5to:\", value[:5])\n",
        "print(\"valor desde posición 3ero hasta 8vo:\", value[3:8])\n",
        "print(\"value al inverso:\", value[::-1])\n"
      ],
      "execution_count": 31,
      "outputs": [
        {
          "output_type": "stream",
          "text": [
            "Primer valor: G\n",
            "Último valor: S\n",
            "Desde el valor 3ero hast el final: KSFORGEEKS\n",
            "Desde inicio hast el 5to: GEEKS\n",
            "valor desde posición 3ero hasta 8vo: KSFOR\n",
            "value al inverso: SKEEGROFSKEEG\n"
          ],
          "name": "stdout"
        }
      ]
    }
  ]
}