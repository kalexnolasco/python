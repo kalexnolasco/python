{
  "nbformat": 4,
  "nbformat_minor": 0,
  "metadata": {
    "kernelspec": {
      "display_name": "Python 3",
      "language": "python",
      "name": "python3"
    },
    "language_info": {
      "codemirror_mode": {
        "name": "ipython",
        "version": 3
      },
      "file_extension": ".py",
      "mimetype": "text/x-python",
      "name": "python",
      "nbconvert_exporter": "python",
      "pygments_lexer": "ipython3",
      "version": "3.7.3"
    },
    "colab": {
      "name": "00_tutoria_básico.ipynb",
      "provenance": [],
      "include_colab_link": true
    }
  },
  "cells": [
    {
      "cell_type": "markdown",
      "metadata": {
        "id": "view-in-github",
        "colab_type": "text"
      },
      "source": [
        "<a href=\"https://colab.research.google.com/github/kalexnolasco/python/blob/main/notebooks/00_tutoria_b%C3%A1sico.ipynb\" target=\"_parent\"><img src=\"https://colab.research.google.com/assets/colab-badge.svg\" alt=\"Open In Colab\"/></a>"
      ]
    },
    {
      "cell_type": "markdown",
      "metadata": {
        "id": "RKMFiNAHqE_l"
      },
      "source": [
        ""
      ]
    },
    {
      "cell_type": "markdown",
      "metadata": {
        "id": "24xYxdDdqGq-"
      },
      "source": [
        "\n",
        "# <center> **Tutorial básico de Python**</center>"
      ]
    },
    {
      "cell_type": "code",
      "metadata": {
        "id": "ikHe-V3grQzc"
      },
      "source": [
        "# Preferiblemente importamos todos los módulos que utlizaremos al principio\n",
        "import os\n",
        "import sys\n",
        "import keyword\n",
        "import operator\n",
        "\n",
        "from datetime import datetime"
      ],
      "execution_count": 3,
      "outputs": []
    },
    {
      "cell_type": "markdown",
      "metadata": {
        "id": "XPjnBWW-qEZ2"
      },
      "source": [
        "## **keywords (palabras reservadas de python)**\n",
        "\n",
        "* Las palabras reservadas en python no se pueden utilizar para identificar a variables. "
      ]
    },
    {
      "cell_type": "code",
      "metadata": {
        "id": "SRXk2G4_rqKZ",
        "outputId": "7e910faf-98e6-4fa4-c475-10e2715c7c3c",
        "colab": {
          "base_uri": "https://localhost:8080/"
        }
      },
      "source": [
        "print(\"Listamos todas las keyword:\", keyword.kwlist, sep=\"\\n\")\n",
        "print(\"Python contiene un total de\", len(keyword.kwlist), \"keywords\")"
      ],
      "execution_count": 32,
      "outputs": [
        {
          "output_type": "stream",
          "text": [
            "Listamos todas las keyword:\n",
            "['False', 'None', 'True', 'and', 'as', 'assert', 'async', 'await', 'break', 'class', 'continue', 'def', 'del', 'elif', 'else', 'except', 'finally', 'for', 'from', 'global', 'if', 'import', 'in', 'is', 'lambda', 'nonlocal', 'not', 'or', 'pass', 'raise', 'return', 'try', 'while', 'with', 'yield']\n",
            "Python contiene un total de 35 keywords\n"
          ],
          "name": "stdout"
        }
      ]
    },
    {
      "cell_type": "markdown",
      "metadata": {
        "id": "IxF5q7UJst6v"
      },
      "source": [
        "## **Identificadores**\n",
        "\n",
        "* Son los nombres que toman las diversas entidades, por ejemplo clases, funciones, variables, entre otros."
      ]
    },
    {
      "cell_type": "code",
      "metadata": {
        "id": "tHgjovsGstqA",
        "outputId": "c4dcf46d-ea06-4160-da5d-2318c1c94cb4",
        "colab": {
          "base_uri": "https://localhost:8080/",
          "height": 129
        }
      },
      "source": [
        "# Los identificadores no pueden empezar con dígito(s)\n",
        "1variable = 10"
      ],
      "execution_count": 13,
      "outputs": [
        {
          "output_type": "error",
          "ename": "SyntaxError",
          "evalue": "ignored",
          "traceback": [
            "\u001b[0;36m  File \u001b[0;32m\"<ipython-input-13-3e875d2a7c8f>\"\u001b[0;36m, line \u001b[0;32m2\u001b[0m\n\u001b[0;31m    1variable = 10\u001b[0m\n\u001b[0m            ^\u001b[0m\n\u001b[0;31mSyntaxError\u001b[0m\u001b[0;31m:\u001b[0m invalid syntax\n"
          ]
        }
      ]
    },
    {
      "cell_type": "code",
      "metadata": {
        "id": "S51SwK0Vstmf",
        "outputId": "b486bf8f-2b7b-4b62-8c89-b2ec060696e7",
        "colab": {
          "base_uri": "https://localhost:8080/",
          "height": 129
        }
      },
      "source": [
        "# Los identificadores no pueden utilizar símbolos especials (@, #, %,...)\n",
        "val@ = 30"
      ],
      "execution_count": 14,
      "outputs": [
        {
          "output_type": "error",
          "ename": "SyntaxError",
          "evalue": "ignored",
          "traceback": [
            "\u001b[0;36m  File \u001b[0;32m\"<ipython-input-14-ab2c44c54b72>\"\u001b[0;36m, line \u001b[0;32m2\u001b[0m\n\u001b[0;31m    val@ = 30\u001b[0m\n\u001b[0m         ^\u001b[0m\n\u001b[0;31mSyntaxError\u001b[0m\u001b[0;31m:\u001b[0m invalid syntax\n"
          ]
        }
      ]
    },
    {
      "cell_type": "code",
      "metadata": {
        "id": "4NXmgfKDsRpw",
        "outputId": "0f609438-a88b-45cb-bd35-a2d0b836465c",
        "colab": {
          "base_uri": "https://localhost:8080/",
          "height": 129
        }
      },
      "source": [
        "# Los identificadores no pueden ser keywords de python\n",
        "class = 50"
      ],
      "execution_count": 15,
      "outputs": [
        {
          "output_type": "error",
          "ename": "SyntaxError",
          "evalue": "ignored",
          "traceback": [
            "\u001b[0;36m  File \u001b[0;32m\"<ipython-input-15-5c337578a87e>\"\u001b[0;36m, line \u001b[0;32m2\u001b[0m\n\u001b[0;31m    class = 50\u001b[0m\n\u001b[0m          ^\u001b[0m\n\u001b[0;31mSyntaxError\u001b[0m\u001b[0;31m:\u001b[0m invalid syntax\n"
          ]
        }
      ]
    },
    {
      "cell_type": "markdown",
      "metadata": {
        "id": "DQjph2bdt4OY"
      },
      "source": [
        "La forma correcta de nombrar a un identificador será con letras minúsculas (a->z) o máyusculas (A->Z) o guión bajo (_).Puede exisitir números, pero este no debe ser el primer carácter\n",
        "\n",
        "Para más imformación leer el [PEP8 de Python](http://recursospython.com/pep8es.pdf)"
      ]
    },
    {
      "cell_type": "code",
      "metadata": {
        "id": "lNGjWgg8uZey"
      },
      "source": [
        "val = 50\n",
        "val_ = 50\n",
        "val2 = 30"
      ],
      "execution_count": 24,
      "outputs": []
    },
    {
      "cell_type": "markdown",
      "metadata": {
        "id": "KWAXl_E6uvWS"
      },
      "source": [
        "## **Comentarios**\n",
        "\n",
        "* El uso de comentarios es muy importante en el desarrollo de cualquier script/programa ya sea para python o cualquier otro lenguaje. Nuestro yo del futuro nos agradecerá."
      ]
    },
    {
      "cell_type": "code",
      "metadata": {
        "id": "Yiv4XIsguyBz"
      },
      "source": [
        "# Esto es un comentario de una sola línea. Definimos value=50\n",
        "value = 50"
      ],
      "execution_count": 25,
      "outputs": []
    },
    {
      "cell_type": "code",
      "metadata": {
        "id": "s2MOimWCvUbD"
      },
      "source": [
        "# Este es un comentario\n",
        "# en varias\n",
        "# líneas. definimos value=100\n",
        "value = 100"
      ],
      "execution_count": 26,
      "outputs": []
    },
    {
      "cell_type": "markdown",
      "metadata": {
        "id": "zlV0Ct4pvk_p"
      },
      "source": [
        "## **Declaraciones**\n"
      ]
    },
    {
      "cell_type": "code",
      "metadata": {
        "id": "ivBu6ocmvfBN",
        "outputId": "f9ec9a3a-c816-4a11-de2d-d6648ae9885e",
        "colab": {
          "base_uri": "https://localhost:8080/"
        }
      },
      "source": [
        "# Declaración en una sola línea\n",
        "value = 5 + 15\n",
        "print(\"El valor de value es:\", value)\n",
        "vowels = [\"a\", \"e\", \"i\", \"o\", \"u\"]\n",
        "print(\"Las vocales son:\",vowels)"
      ],
      "execution_count": 29,
      "outputs": [
        {
          "output_type": "stream",
          "text": [
            "El valor de value es: 20\n",
            "Las vocales son: ['a', 'e', 'i', 'o', 'u']\n"
          ],
          "name": "stdout"
        }
      ]
    },
    {
      "cell_type": "code",
      "metadata": {
        "id": "y_g8vprLvwZq",
        "outputId": "a602fb03-0786-4f64-a10a-1112d4df044a",
        "colab": {
          "base_uri": "https://localhost:8080/"
        }
      },
      "source": [
        "# Declaración en varias líneas\n",
        "value = 5 + \\\n",
        "        15\n",
        "print(\"El valor de value es:\", value)\n",
        "vowels = [\"a\",\n",
        "          \"e\",\n",
        "          \"i\",\n",
        "          \"o\",\n",
        "          \"u\"]\n",
        "print(\"Las vocales son:\",vowels)"
      ],
      "execution_count": 31,
      "outputs": [
        {
          "output_type": "stream",
          "text": [
            "El valor de value es: 20\n",
            "Las vocales son: ['a', 'e', 'i', 'o', 'u']\n"
          ],
          "name": "stdout"
        }
      ]
    },
    {
      "cell_type": "markdown",
      "metadata": {
        "id": "Fr3VjC3_wyhC"
      },
      "source": [
        "## Identación\n",
        "\n",
        "* La identación/sangría es muy importante en Python, ya que este definirá los bloques de código. Si una identación no es correcta tendremos la Excepción **IdentationError**\n"
      ]
    },
    {
      "cell_type": "code",
      "metadata": {
        "id": "76XQdOtmvwX1",
        "outputId": "070fcd0d-82c2-4d04-eb41-04a5a0a8e69b",
        "colab": {
          "base_uri": "https://localhost:8080/"
        }
      },
      "source": [
        "# correcta identación\n",
        "value = 50\n",
        "if value == 50:\n",
        "  print(\"El valor de values es 50\")  # Aquí se tiene identación\n",
        "  "
      ],
      "execution_count": 34,
      "outputs": [
        {
          "output_type": "stream",
          "text": [
            "El valor de values es 50\n"
          ],
          "name": "stdout"
        }
      ]
    },
    {
      "cell_type": "code",
      "metadata": {
        "id": "xsj1jTqlvwVi",
        "outputId": "1e94e3af-31d8-4bf5-dcdc-8b767a7620f9",
        "colab": {
          "base_uri": "https://localhost:8080/",
          "height": 129
        }
      },
      "source": [
        "# identación errónea\n",
        "value = 50\n",
        "if value == 50:\n",
        "print(\"El valor de values es 50\")  # Aquí no hay identación"
      ],
      "execution_count": 36,
      "outputs": [
        {
          "output_type": "error",
          "ename": "IndentationError",
          "evalue": "ignored",
          "traceback": [
            "\u001b[0;36m  File \u001b[0;32m\"<ipython-input-36-d4b6079dd121>\"\u001b[0;36m, line \u001b[0;32m4\u001b[0m\n\u001b[0;31m    print(\"El valor de values es 50\")  # Aquí no hay identación\u001b[0m\n\u001b[0m        ^\u001b[0m\n\u001b[0;31mIndentationError\u001b[0m\u001b[0;31m:\u001b[0m expected an indented block\n"
          ]
        }
      ]
    },
    {
      "cell_type": "code",
      "metadata": {
        "id": "7npl5b1RvwTZ",
        "outputId": "04121292-70ef-4664-f8e7-040fc71049f9",
        "colab": {
          "base_uri": "https://localhost:8080/"
        }
      },
      "source": [
        "repeat = 4\n",
        "for i in range(repeat):\n",
        "  print(\"Estoy en la identación\")\n",
        "print(\"He salido de la identación\")"
      ],
      "execution_count": 37,
      "outputs": [
        {
          "output_type": "stream",
          "text": [
            "Estoy en la identación\n",
            "Estoy en la identación\n",
            "Estoy en la identación\n",
            "Estoy en la identación\n",
            "He salido de la identación\n"
          ],
          "name": "stdout"
        }
      ]
    },
    {
      "cell_type": "markdown",
      "metadata": {
        "id": "E8NjeZrlyJOX"
      },
      "source": [
        "## Docstrings\n",
        "\n",
        "* Los doctstrings nos brindan una manera de asociar la documentación con las funciones, metódos, clases y módulos.\n",
        "* Se deberá realizar el **docstring** después de definir la función, método, clase o módulo.\n"
      ]
    },
    {
      "cell_type": "code",
      "metadata": {
        "id": "OGCnkhCDvwRK",
        "outputId": "e8324ca4-4303-40d0-b15f-01620d7a07af",
        "colab": {
          "base_uri": "https://localhost:8080/"
        }
      },
      "source": [
        "def say_hello():\n",
        "  \"\"\"Esta función se encarga de decir hola\"\"\"\n",
        "  print(\"Hola\")\n",
        "  \n",
        "say_hello()"
      ],
      "execution_count": 38,
      "outputs": [
        {
          "output_type": "stream",
          "text": [
            "Hola\n"
          ],
          "name": "stdout"
        }
      ]
    },
    {
      "cell_type": "code",
      "metadata": {
        "id": "2l3hdq5wvwOy",
        "outputId": "70580079-b8bc-4406-caa6-8c6584321d12",
        "colab": {
          "base_uri": "https://localhost:8080/"
        }
      },
      "source": [
        "# Podremos acceder al Docstring usando el método __doc__\n",
        "say_hello.__doc__"
      ],
      "execution_count": 39,
      "outputs": [
        {
          "output_type": "execute_result",
          "data": {
            "text/plain": [
              "'Esta función se encarga de decir hola'"
            ]
          },
          "metadata": {
            "tags": []
          },
          "execution_count": 39
        }
      ]
    },
    {
      "cell_type": "markdown",
      "metadata": {
        "id": "vo74VqnMzSzv"
      },
      "source": [
        "## **Variables**\n",
        "* Las variables son almacenadas en alguna ubicación de la memoria.\n",
        "* Se crean al momento que se les asigna algún valor por primera vez.\n",
        "* la función **id()** nos devuelve la **'identidad'** del objeto/variable. `En python todo son objetos`.\n",
        "  * La **'identidad'** de un objetos:\n",
        "      1. Es un número entero\n",
        "      2. Se garantiza que es el único.\n",
        "      3. Constante durante toda la vida del objeto.\n",
        "\n"
      ]
    },
    {
      "cell_type": "code",
      "metadata": {
        "id": "tWImrhHlztIU",
        "outputId": "42d022dc-8ad1-425b-cd59-c4e8b6a5813f",
        "colab": {
          "base_uri": "https://localhost:8080/"
        }
      },
      "source": [
        "new_value = 1200\n",
        "id(new_value)"
      ],
      "execution_count": 40,
      "outputs": [
        {
          "output_type": "execute_result",
          "data": {
            "text/plain": [
              "140212360182928"
            ]
          },
          "metadata": {
            "tags": []
          },
          "execution_count": 40
        }
      ]
    },
    {
      "cell_type": "code",
      "metadata": {
        "id": "khRDXHa10uDX",
        "outputId": "1da5b7a2-6c86-4956-d74b-a150a1efe63a",
        "colab": {
          "base_uri": "https://localhost:8080/"
        }
      },
      "source": [
        "# Para obtener la dirección en memoria utilizamos  a la hex()\n",
        "hex(id(new_value))"
      ],
      "execution_count": 41,
      "outputs": [
        {
          "output_type": "execute_result",
          "data": {
            "text/plain": [
              "'0x7f85bbebfc90'"
            ]
          },
          "metadata": {
            "tags": []
          },
          "execution_count": 41
        }
      ]
    },
    {
      "cell_type": "code",
      "metadata": {
        "id": "9kTcd-su1g8t",
        "outputId": "0b6c7b5e-ecb1-41f8-87f2-a09b274fab24",
        "colab": {
          "base_uri": "https://localhost:8080/"
        }
      },
      "source": [
        "a = 50 # Se crea un objeto integer con valor de 50 y se le asigna la variable a para que apunte a esta.\n",
        "b = 50 # Se crea una nueva referencia b que apunta al valor 50. a y b apuntan a la misma ubicación de memoria\n",
        "c = b # La variable c también apuntará a la misma ubicación que a y b.\n",
        "\n",
        "print(\"a: valor\", a, \", tipo:\", type(a), \", ubicación en memoria:\", hex(id(a)))\n",
        "print(\"b: valor\", b, \", tipo:\", type(b), \", ubicación en memoria:\", hex(id(b)))\n",
        "print(\"c: valor\", c, \", tipo:\", type(c), \", ubicación en memoria:\", hex(id(c)))"
      ],
      "execution_count": 42,
      "outputs": [
        {
          "output_type": "stream",
          "text": [
            "a: valor 50 , tipo: <class 'int'> , ubicación en memoria: 0x8a4f00\n",
            "b: valor 50 , tipo: <class 'int'> , ubicación en memoria: 0x8a4f00\n",
            "c: valor 50 , tipo: <class 'int'> , ubicación en memoria: 0x8a4f00\n"
          ],
          "name": "stdout"
        }
      ]
    },
    {
      "cell_type": "markdown",
      "metadata": {
        "id": "srWkibjQ3K9v"
      },
      "source": [
        "### **Asignación de variables**"
      ]
    },
    {
      "cell_type": "code",
      "metadata": {
        "id": "XrDbiBr83O3y"
      },
      "source": [
        "var_int = 10 # varialbe de tipo entero(Integer)\n",
        "var_float = 2.565 # variable de tipo flotande(Float)\n",
        "var_string = \"Python\" # variable del tipo cadena (String)\n",
        "var_bool = True # variable de tipo booleana\n",
        "var_list = [1, 2, 3, 4] # variable de tipo lista\n",
        "var_tuple = (1, 2, 3, 4) # variable del tipo tupla\n",
        "var_dict = {\"a\": 50 , \"b\":100} # variable del tipo diccionario\n",
        "var_set = {1, 2, 3} # variable del tipo conjunto\n"
      ],
      "execution_count": 44,
      "outputs": []
    },
    {
      "cell_type": "code",
      "metadata": {
        "id": "ga7l-BJ23O9C"
      },
      "source": [
        "# Asignación multiple\n",
        "var_int, var_float, var_string = 10, 2.565, \"Python\""
      ],
      "execution_count": 45,
      "outputs": []
    },
    {
      "cell_type": "code",
      "metadata": {
        "id": "Bz0YzzoO3O6U"
      },
      "source": [
        "# Definir el mismo valor para diversas variables\n",
        "val_1 = val_2 = val_3 = val_4 = 125 # Todas las variables apuntal al mismo valor"
      ],
      "execution_count": 46,
      "outputs": []
    },
    {
      "cell_type": "markdown",
      "metadata": {
        "id": "cJjS1P7z4jht"
      },
      "source": [
        "## **Tipos de datos**"
      ]
    },
    {
      "cell_type": "code",
      "metadata": {
        "id": "pAGSOBrY4iDd"
      },
      "source": [
        ""
      ],
      "execution_count": null,
      "outputs": []
    }
  ]
}